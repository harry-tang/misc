{
  "cells": [
    {
      "cell_type": "markdown",
      "metadata": {
        "id": "g3pHcQ0Waze_"
      },
      "source": [
        "# 1.0 Introduction"
      ]
    },
    {
      "cell_type": "markdown",
      "metadata": {
        "id": "_IAxREwJr7Rd"
      },
      "source": [
        "## 1.1 Scope\n",
        "This is not a tutorial in the usual sense; it does not aim to teach a specific skill. Instead it aims to demonstrate the underlying linear algebra of statistical applications both in theory and practice. The underlying motivation was inspired from the relative lack of practical applications introduced in introductory classes. For early students of linear algebra and statistics, it can be hard to see how theory taught in class relates to real-world applications. Toy examples and ready-made tools such as matrix calculators or statistical software obscure how theory extends to practice. For beginner computer science students, general problems are explored, but deeper exploration of real-world problems are also not emphasized.\n",
        "\n",
        "This tutorial serves to show that even basic ideas can be very powerful. The tutorial starts with the foundations from each discipline and builds to a linear algebra focused theory of linear estimation and an implemention of its key result: the Ordinary Least Squares (OLS) estimator.\n",
        "\n",
        "\n",
        "\n",
        "\n",
        "\n"
      ]
    },
    {
      "cell_type": "markdown",
      "metadata": {
        "id": "Ps9FQKnP3Hyu"
      },
      "source": [
        "## 1.2 Note About Colab\n",
        "If you sign in to a Google account, Colab notebooks are interactive. Click the 'Run cell' button to run the code sections and see the output. You can also edit the code or add your own examples. "
      ]
    },
    {
      "cell_type": "markdown",
      "metadata": {
        "id": "t7FLUONjZ5H0"
      },
      "source": [
        "# 2.0 Linear Estimation In Matrices\n",
        "\n"
      ]
    },
    {
      "cell_type": "markdown",
      "metadata": {
        "id": "p6pP4AXq0pWF"
      },
      "source": [
        "## 2.1 Statistical Background\n",
        "The overall concept of statistical estimation is to collect a sample from a population and estimate the value of population parameters (coefficients). The parameter is the change in response in the predicted variable to a one unit-change in the predictor variable, holding other predictors constant. In other words, it is a \"slope\" or rate of change.\n",
        "\n",
        "It is assumed that the sample will incompletely represent the population, so uncertainty is taken into account. We avoid a lengthy discussion on the background theory of estimation to focus on the results of linear estimation-- the most important introductory model.\n",
        "\n",
        "Consider the linear regression model in scalar form:\n",
        "> $Y_{i} = \\beta_{0} + \\beta_{1}X_{i1} + \\cdots + \\beta_{k}X_{ik} + \\epsilon_{i} \\text{ for i = 1,2,..., n}$\n",
        "\n",
        "Y is the predicted variable, X are the predictor variables, β0 is the intercept, β's are the unknown parameters, and ϵ is the random error or residual. Each *i* denotes an obervation. Sample size is n.\n",
        "\n",
        "For example, if we had labour force data and were interested in the effect of age and education on income, Y would be income, X1 would be age, and X2 would be education.\n",
        "\n",
        "This equation should be familiar and analogous to the usual linear equation. It should be noted that the model is linear in parameters (the coefficients are 'slopes') rather than the predictor variables.\n",
        "\n",
        "Now consider its matrix form:\n",
        "> $\\mathbf{Y} = \n",
        "\\begin{bmatrix} \n",
        "Y_{1} \\\\ Y_{2} \\\\ \\vdots{} \\\\ Y_{n}\n",
        "\\end{bmatrix}, \n",
        "\\mathbf{X} =  \n",
        "\\begin{bmatrix}\n",
        "1 & X_{1,1} & X_{1,2} & \\ldots & X_{1,k}\\\\ \n",
        "1 & X_{2,1} & X_{2,2} & \\ldots & X_{2,k}\\\\ \n",
        "\\vdots & \\vdots & \\vdots & \\ddots & \\vdots\\\\ \n",
        "1 & X_{n,1} & X_{n,2} & \\ldots & X_{n,k}\n",
        "\\end{bmatrix},\n",
        "\\mathbf{β} = \n",
        "\\begin{bmatrix} \n",
        "\\beta_{1} \\\\ \\beta_{2} \\\\ \\vdots{} \\\\ \\beta_{k}\n",
        "\\end{bmatrix}$\n",
        "\n",
        "In boldface matrix notation:\n",
        ">$\\mathbf{Y}_{n \\times 1} = \\mathbf{X}_{n \\times k}β_{k \\times 1} + ϵ_{n \\times 1}$\n"
      ]
    },
    {
      "cell_type": "markdown",
      "metadata": {
        "id": "rxcOPDP63oEo"
      },
      "source": [
        "## 2.2 Ordinary Least Squares\n",
        "\n",
        "Ordinary Least Squares is simply one method for estimating our parameters. It recognizes that once the coefficients are estimated, our model becomes:\n",
        "\n",
        "> $\\hat{Y_{i}} = \\hat{\\beta_{0}} + \\hat{\\beta_{1}}X_{i1} + \\cdots + \\hat{\\beta_{k}}X_{ik}  \\text{ for i = 1,2,..., n}$\n",
        "\n",
        "The \"hat\" denotes that these are estimated from the sample, not the population parameters. \n",
        "\n",
        "The omitted residual can be given like this:\n",
        "\n",
        "> $\\mathbf{\\epsilon} = \\mathbf{Y} - \\hat{\\mathbf{Y}}$\n",
        "\n",
        "The OLS method of minimizing the random error is by minimizing the sum of squared residuals:\n",
        "> $SSR = \\sum\\mathbf{\\epsilon}^{2}_{i} = \\sum\\left (  Y_{i}-\\hat{Y_{i}}\\right)^{2}$\n",
        "\n",
        "Or in other words, minimize $\\epsilon^{'}\\epsilon = \\left (\\mathbf{Y}-\\mathbf{X}\\mathbf{β}\\right)^{'}\\left(\\mathbf{Y}-\\mathbf{X}\\mathbf{β}\\right)$ by taking the derivative of epsilon with respect to beta and set to 0 to minimize: $\\frac{\\mathrm{d\\epsilon} }{\\mathrm{d} \\beta} \n",
        "= -2\\mathbf{X}^{'}\\left(\\mathbf{Y}-\\mathbf{X}\\mathbf{β}\\right) = \\mathbf{0}$, such that the vector of estimated coefficients is $\\mathbf{b} = \\left(\\mathbf{X}^{'}\\mathbf{X}\\right)^{-1}\\mathbf{X}^{'}\\mathbf{Y}$\n",
        "\n",
        "*We use lower case beta now to show that it is formula for the estimated coefficient, not the population coefficient"
      ]
    },
    {
      "cell_type": "markdown",
      "metadata": {
        "id": "F09HhMsc36df"
      },
      "source": [
        "## 2.3 Connections With Linear Algebra\n",
        "The statistical and geometrical idea is intuitive. For the fitted linear equation, the closer the line (predicted values) are to the actual observed Y values the better. \n",
        "\n",
        "Looking at the idea in matrix form, we see that the problem is really solving for the system of linear equations, given by the matrix equation $\\mathbf{X}\\mathbf{\\beta}=\\mathbf{Y}$. Recall that the vector of coefficients $\\mathbf{\\beta}$ only has a solution if it is a linear combination of columns of X. We already know this is not true because there is random error ϵ. \n",
        "\n",
        "Instead, OLS minimizes the SSR so it can solve the least squares solution of $\\mathbf{X}\\mathbf{b}=\\hat{\\mathbf{Y}}$, where $\\hat{\\mathbf{Y}}$ is indeed a linear combination of columns of $\\mathbf{X}$ as it omitts the residual. In short, linear regression adapts linear algebra concepts to solve the sample coefficients, which can be explicitly defined in terms of matrix algebra.\n",
        "\n",
        "With introductory linear algebra concepts and the matrix equation for coefficients, we are ready to solve the OLS for a real world example."
      ]
    },
    {
      "cell_type": "markdown",
      "metadata": {
        "id": "iHEkMbUtbU1I"
      },
      "source": [
        "# 3.0 Linear Estimation In Practice"
      ]
    },
    {
      "cell_type": "markdown",
      "metadata": {
        "id": "hWxI_9a2Mh5_"
      },
      "source": [
        "## 3.1 Practice vs. Theory\n",
        "There are many linear algebra and statistical analysis tools available. However, while these tools can easily solve real-world problems, they are poor for building intuition and gaining deeper understanding. On the other hand, finding the OLS by hand would be prohibitively time-consuming.\n",
        "\n",
        "But with some basic computer science ideas, we can implement the concepts in linear algebra and statistics. The goal for this tutorial is to build the tools needed to compute the OLS estimator for a real world dataset, and to verify the result.\n",
        "\n",
        "In fact only 3 matrix calculations are required to solve $\\mathbf{b} = \\left(\\mathbf{X}^{'}\\mathbf{X}\\right)^{-1}\\mathbf{X}^{'}\\mathbf{Y}$? Matrix transposition, multiplication, and inversion are possible to implement solely with the basic Python programming concepts below:\n",
        "\n",
        "\n",
        "\n",
        "\n",
        "\n",
        "\n",
        "\n"
      ]
    },
    {
      "cell_type": "markdown",
      "metadata": {
        "id": "6mWt9i3L43TI"
      },
      "source": [
        "## 3.2 Python Fundamentals\n",
        "A custom function can be defined like thus:\n",
        "```\n",
        "def function(a,b)\n",
        "  z = a * b +2\n",
        "  return z\n",
        "```\n",
        "This function will take in parameters and b, perform arithmetic operations on it and store it in a new variable z which is returned at the end.\n",
        "\n",
        "Matrices are not built-in data formats for most programming languages. In Python matrices can be implement as list of lists (nested lists). A list is a kind of object that has multiple elements which can be accessed. For matrices, each row is a new list. See examples below:\n",
        "```\n",
        "# x is a 3x3 matrix and y is a 1x3 vector\n",
        "x = [[1,2,3],\n",
        "     [4,0,6],\n",
        "     [7,8,9]]\n",
        "y = [[1],[2],[3]]\n",
        "```\n",
        "\n",
        "For loops are needed to perform operations over iterable objects:\n",
        "```\n",
        "# output 0 to 4\n",
        "[i for i in range(5)]\n",
        "# do something to each element in existing list\n",
        "for i in range(len(x))\n",
        "  function(x[i])\n",
        "```\n",
        "A few more explanatory details:\n",
        "- Python starts counting at 0\n",
        "- range() is a built-in function that returns a collection of numbers\n",
        "- len() is a built-in function that returns the length of an iterable object like lists\n",
        "- lists can be declared with [] or with list()\n",
        "- list elements can be accessed with indices in brackets after the list variable, i.e. a[0][1]\n",
        "\n",
        "*Note: the code is designed such that only reasonable inputs can be computed. For example, if you use the multiplication function with ill-defined matrices, the code will not work/throw an error."
      ]
    },
    {
      "cell_type": "markdown",
      "metadata": {
        "id": "TzHTIqdlrdW0"
      },
      "source": [
        "## 3.3 Building Matrix Operation Functions\n",
        "We start by building a transposition function:"
      ]
    },
    {
      "cell_type": "code",
      "execution_count": 10,
      "metadata": {
        "colab": {
          "base_uri": "https://localhost:8080/"
        },
        "id": "3XnLJzBB1SRc",
        "outputId": "f9a52ed3-3870-4fa8-f12e-25b43c6c2b43"
      },
      "outputs": [
        {
          "name": "stdout",
          "output_type": "stream",
          "text": [
            "[[1, 4, 7], [2, 0, 8], [3, 6, 9]]\n",
            "[[1, 2, 3]]\n"
          ]
        }
      ],
      "source": [
        "# simple matrix transposition function\n",
        "def transpose(a):\n",
        "  # make a zero matrix, nrows = ncols of a and ncols = nrows of a\n",
        "  result = [[0 for i in range(len(a))] for j in range(len(a[0]))]\n",
        "  # iterate over rows of a\n",
        "  for i in range(len(a)):\n",
        "    # ierate over columns of a\n",
        "    for j in range(len(a[0])):\n",
        "      # j,i element in result matrix is assigned the i,j element of a\n",
        "      result[j][i] = a[i][j]\n",
        "  return result\n",
        "\n",
        "# examples:\n",
        "x = [[1,2,3],\n",
        "     [4,0,6],\n",
        "     [7,8,9]]\n",
        "y = [[1],[2],[3]]\n",
        "print(transpose(x))\n",
        "print(transpose(y))"
      ]
    },
    {
      "cell_type": "markdown",
      "metadata": {
        "id": "LMhUYcXjsNHR"
      },
      "source": [
        "Next we implement a matrix multiplication function:"
      ]
    },
    {
      "cell_type": "code",
      "execution_count": 11,
      "metadata": {
        "colab": {
          "base_uri": "https://localhost:8080/"
        },
        "id": "PBnzaZptnN4S",
        "outputId": "cd23963d-c0b4-4142-e1ea-bc1a1ab2037c"
      },
      "outputs": [
        {
          "name": "stdout",
          "output_type": "stream",
          "text": [
            "[[92, 98, 104, 110], [218, 233, 248, 263], [344, 368, 392, 416]]\n"
          ]
        }
      ],
      "source": [
        "# simple matrix multiplication function\n",
        "def mult(a,b):\n",
        "  # make a zero matrix, nrow= nrows of a and ncol = ncols of b\n",
        "  result = [[0 for i in range(len(b[0]))] for j in range(len(a))]\n",
        "  # iterate through rows of a\n",
        "  for i in range(len(a)):\n",
        "   # iterate through columns of b\n",
        "   for j in range(len(b[0])):\n",
        "       # iterate through rows of b\n",
        "       for k in range(len(b)):\n",
        "         # the i,j element in the result matrix is sum of dot products of ith \n",
        "         # row of a and jth column of b, over k rows of b\n",
        "           result[i][j] += a[i][k] * b[k][j]\n",
        "  return result\n",
        "\n",
        "# examples:\n",
        "a = [[1,2,3],\n",
        "     [4,5,6],\n",
        "     [7,8,9]]\n",
        "b = [[10,11,12,13],\n",
        "    [14,15,16,17],\n",
        "    [18,19,20,21]]\n",
        "print(mult(a,b))\n"
      ]
    },
    {
      "cell_type": "markdown",
      "metadata": {
        "id": "ddFmd1zvsfed"
      },
      "source": [
        "The usual matrix inversion algorithm (Gaussian Elimination) will be implemented. But there are in fact 3 functions within the invert() function that will perform the same steps as that of Gaussian elimination. They are not the same steps that we would use, but you can verify that the code below indeed performs the same operations that are used to reduce the augmented matrix $\\begin{bmatrix}A|I\\end{bmatrix}$ to REF, then to RREF, and thereby finding the solution in $\\begin{bmatrix}I|A^{-1}\\end{bmatrix}$."
      ]
    },
    {
      "cell_type": "code",
      "execution_count": 12,
      "metadata": {
        "colab": {
          "base_uri": "https://localhost:8080/"
        },
        "id": "Ym9ASGIATPt0",
        "outputId": "2640f1c7-c651-4e53-ad24-987f51f4924e"
      },
      "outputs": [
        {
          "name": "stdout",
          "output_type": "stream",
          "text": [
            "[[-0.5714285714285714, 0.07142857142857142, 0.14285714285714285], [0.5, -0.25, 0.0], [0.0, 0.16666666666666666, 0.0]]\n",
            "[[-0.7999999999999998, 0.1, 0.19999999999999998], [0.10000000000000009, -0.2, 0.1], [0.5333333333333332, 0.1, -0.13333333333333333]]\n"
          ]
        }
      ],
      "source": [
        "def invert(a):\n",
        "  n = len(a)\n",
        "  # create the nxn result matrix, same dimensions as matrix a\n",
        "  result = [[0 for i in range(n)] for j in range(n)]\n",
        "  \n",
        "  # assign the diagonal values in result to 1:\n",
        "  # iterate through rows of result\n",
        "  for i in range(n):\n",
        "    # iterate through colums of result\n",
        "    for j in range(n):\n",
        "      # if i,j column equal (diagonal) then assign value of 1\n",
        "      if i==j:\n",
        "        result[i][j] = 1\n",
        "  \n",
        "  # re-arrange the rows so the leading entries are non-zero; preparing for REF\n",
        "  # iterate through rows of a\n",
        "  for i in range(n):\n",
        "    if a[i][i]==0:\n",
        "      # if the diagnoal of a is 0, then iterate through rows below that diagonal\n",
        "      for j in range(i+1, n):\n",
        "        # if the value in same column of row above is non-zero, swap rows\n",
        "        if a[j][i]!=0:\n",
        "          # this is a built in function to swap 2 objects, use for both a and \n",
        "          # result matrices\n",
        "          a[i],a[j] = a[j],a[i]\n",
        "          result[i],result[j] = result[j],result[i]\n",
        "\n",
        "  # creat indices list to allow flexible row referencing \n",
        "  indices = list(range(n)) \n",
        "  # iterate through diagonal values\n",
        "  for d in range(n):\n",
        "      # diagonal scale factor based on diagonal \n",
        "      dScale = 1.0 / a[d][d]\n",
        "      # iterate through columns of current diagonal\n",
        "      for j in range(n):\n",
        "        # multiply each element by dScale, REF operations\n",
        "        a[d][j] *= dScale\n",
        "        result[d][j] *= dScale\n",
        "      # iterate through rows other than current diagonal (which is now 1)\n",
        "      for i in indices[0:d] + indices[d+1:]: \n",
        "        # column scale factor based on element on current diagonal and each column\n",
        "        cScale = a[i][d] \n",
        "        # iterate through columns\n",
        "        for j in range(n): \n",
        "          # RREF operations; subtract from each element the scaled corresponding\n",
        "          # elmement from the diagonal row \n",
        "          a[i][j] = a[i][j] - cScale * a[d][j]\n",
        "          result[i][j] = result[i][j] - cScale * result[d][j]\n",
        "  return result\n",
        "\n",
        "# examples:\n",
        "x = [[0,2,3],\n",
        "     [0,0,6],\n",
        "     [7,8,9]]\n",
        "y = [[1,2,3],\n",
        "     [4,0,6],\n",
        "     [7,8,9]]\n",
        "\n",
        "print(invert(x))\n",
        "print(invert(y))"
      ]
    },
    {
      "cell_type": "markdown",
      "metadata": {
        "id": "tibV9VDUkb_b"
      },
      "source": [
        "# 4.0 California Housing Example"
      ]
    },
    {
      "cell_type": "markdown",
      "metadata": {
        "id": "pT_p8vduyuiA"
      },
      "source": [
        "## 4.1 Introduction\n",
        "All the necesary tools to calculate the OLS coefficient have been created. I hope the reader can recognize the direct relationship between the linear algebra concepts and their implementation. \n",
        "\n",
        "Now we can verify that combining these functions will solve the linear estimation problem we have discussed so far. We will find the benchmark using existing statistical software, introduce a real world dataset, then verify that our own tools can find the same OLS coefficients.\n",
        "\n",
        "The main tool will be Pandas, an open source Python tool for data analysis. The data is the California Housing data set from: https://developers.google.com/machine-learning/crash-course/california-housing-data-description. 9 variables were collected from the US 1990 Census on geographic \"blocks.\" Please see link for more information."
      ]
    },
    {
      "cell_type": "markdown",
      "metadata": {
        "id": "E-h2T6yZ2w_O"
      },
      "source": [
        "## 4.2 Exploratory Data Analysis\n",
        "Let us first import the dataset and consider the correlation matrix of the variables:"
      ]
    },
    {
      "cell_type": "code",
      "execution_count": 13,
      "metadata": {
        "colab": {
          "base_uri": "https://localhost:8080/",
          "height": 292
        },
        "id": "1IpHxwvKKLaj",
        "outputId": "dad3b074-13f6-4eab-937d-70893127b1d6"
      },
      "outputs": [
        {
          "data": {
            "text/html": [
              "<div>\n",
              "<style scoped>\n",
              "    .dataframe tbody tr th:only-of-type {\n",
              "        vertical-align: middle;\n",
              "    }\n",
              "\n",
              "    .dataframe tbody tr th {\n",
              "        vertical-align: top;\n",
              "    }\n",
              "\n",
              "    .dataframe thead th {\n",
              "        text-align: right;\n",
              "    }\n",
              "</style>\n",
              "<table border=\"1\" class=\"dataframe\">\n",
              "  <thead>\n",
              "    <tr style=\"text-align: right;\">\n",
              "      <th></th>\n",
              "      <th>median_house_value</th>\n",
              "      <th>median_income</th>\n",
              "      <th>total_rooms</th>\n",
              "      <th>households</th>\n",
              "      <th>population</th>\n",
              "      <th>total_bedrooms</th>\n",
              "    </tr>\n",
              "  </thead>\n",
              "  <tbody>\n",
              "    <tr>\n",
              "      <th>median_house_value</th>\n",
              "      <td>1.000000</td>\n",
              "      <td>0.672695</td>\n",
              "      <td>0.160427</td>\n",
              "      <td>0.100176</td>\n",
              "      <td>-0.001192</td>\n",
              "      <td>0.082279</td>\n",
              "    </tr>\n",
              "    <tr>\n",
              "      <th>median_income</th>\n",
              "      <td>0.672695</td>\n",
              "      <td>1.000000</td>\n",
              "      <td>0.221249</td>\n",
              "      <td>0.048625</td>\n",
              "      <td>0.032361</td>\n",
              "      <td>0.024025</td>\n",
              "    </tr>\n",
              "    <tr>\n",
              "      <th>total_rooms</th>\n",
              "      <td>0.160427</td>\n",
              "      <td>0.221249</td>\n",
              "      <td>1.000000</td>\n",
              "      <td>0.914116</td>\n",
              "      <td>0.838867</td>\n",
              "      <td>0.937749</td>\n",
              "    </tr>\n",
              "    <tr>\n",
              "      <th>households</th>\n",
              "      <td>0.100176</td>\n",
              "      <td>0.048625</td>\n",
              "      <td>0.914116</td>\n",
              "      <td>1.000000</td>\n",
              "      <td>0.895530</td>\n",
              "      <td>0.970758</td>\n",
              "    </tr>\n",
              "    <tr>\n",
              "      <th>population</th>\n",
              "      <td>-0.001192</td>\n",
              "      <td>0.032361</td>\n",
              "      <td>0.838867</td>\n",
              "      <td>0.895530</td>\n",
              "      <td>1.000000</td>\n",
              "      <td>0.856387</td>\n",
              "    </tr>\n",
              "    <tr>\n",
              "      <th>total_bedrooms</th>\n",
              "      <td>0.082279</td>\n",
              "      <td>0.024025</td>\n",
              "      <td>0.937749</td>\n",
              "      <td>0.970758</td>\n",
              "      <td>0.856387</td>\n",
              "      <td>1.000000</td>\n",
              "    </tr>\n",
              "  </tbody>\n",
              "</table>\n",
              "</div>"
            ],
            "text/plain": [
              "                    median_house_value  median_income  total_rooms  \\\n",
              "median_house_value            1.000000       0.672695     0.160427   \n",
              "median_income                 0.672695       1.000000     0.221249   \n",
              "total_rooms                   0.160427       0.221249     1.000000   \n",
              "households                    0.100176       0.048625     0.914116   \n",
              "population                   -0.001192       0.032361     0.838867   \n",
              "total_bedrooms                0.082279       0.024025     0.937749   \n",
              "\n",
              "                    households  population  total_bedrooms  \n",
              "median_house_value    0.100176   -0.001192        0.082279  \n",
              "median_income         0.048625    0.032361        0.024025  \n",
              "total_rooms           0.914116    0.838867        0.937749  \n",
              "households            1.000000    0.895530        0.970758  \n",
              "population            0.895530    1.000000        0.856387  \n",
              "total_bedrooms        0.970758    0.856387        1.000000  "
            ]
          },
          "execution_count": 13,
          "metadata": {},
          "output_type": "execute_result"
        }
      ],
      "source": [
        "# import tools\n",
        "import pandas as pd\n",
        "import statsmodels.api as sm\n",
        "from patsy import dmatrices\n",
        "\n",
        "# import dataset\n",
        "df = pd.read_csv('california_housing_test.csv')\n",
        "\n",
        "# correlation matrix between all 9 variables\n",
        "corr = df[['median_house_value','median_income','total_rooms','households', 'population', 'total_bedrooms']].corr()\n",
        "corr"
      ]
    },
    {
      "cell_type": "markdown",
      "metadata": {
        "id": "LsA9Mvkn5ntp"
      },
      "source": [
        "Consider the significant relationships; we will focus on median house value, median income, and total rooms. Note that income will scaled so it can be directly compared with median house value. "
      ]
    },
    {
      "cell_type": "code",
      "execution_count": 14,
      "metadata": {
        "colab": {
          "base_uri": "https://localhost:8080/",
          "height": 206
        },
        "id": "3vgfYhL5jhW0",
        "outputId": "b8626870-1636-4a30-d6d7-599404755377"
      },
      "outputs": [
        {
          "data": {
            "text/html": [
              "<div>\n",
              "<style scoped>\n",
              "    .dataframe tbody tr th:only-of-type {\n",
              "        vertical-align: middle;\n",
              "    }\n",
              "\n",
              "    .dataframe tbody tr th {\n",
              "        vertical-align: top;\n",
              "    }\n",
              "\n",
              "    .dataframe thead th {\n",
              "        text-align: right;\n",
              "    }\n",
              "</style>\n",
              "<table border=\"1\" class=\"dataframe\">\n",
              "  <thead>\n",
              "    <tr style=\"text-align: right;\">\n",
              "      <th></th>\n",
              "      <th>median_house_value</th>\n",
              "      <th>median_income</th>\n",
              "      <th>total_rooms</th>\n",
              "    </tr>\n",
              "  </thead>\n",
              "  <tbody>\n",
              "    <tr>\n",
              "      <th>0</th>\n",
              "      <td>344700.0</td>\n",
              "      <td>66085.0</td>\n",
              "      <td>3885.0</td>\n",
              "    </tr>\n",
              "    <tr>\n",
              "      <th>1</th>\n",
              "      <td>176500.0</td>\n",
              "      <td>35990.0</td>\n",
              "      <td>1510.0</td>\n",
              "    </tr>\n",
              "    <tr>\n",
              "      <th>2</th>\n",
              "      <td>270500.0</td>\n",
              "      <td>57934.0</td>\n",
              "      <td>3589.0</td>\n",
              "    </tr>\n",
              "    <tr>\n",
              "      <th>3</th>\n",
              "      <td>330000.0</td>\n",
              "      <td>61359.0</td>\n",
              "      <td>67.0</td>\n",
              "    </tr>\n",
              "    <tr>\n",
              "      <th>4</th>\n",
              "      <td>81700.0</td>\n",
              "      <td>29375.0</td>\n",
              "      <td>1241.0</td>\n",
              "    </tr>\n",
              "  </tbody>\n",
              "</table>\n",
              "</div>"
            ],
            "text/plain": [
              "   median_house_value  median_income  total_rooms\n",
              "0            344700.0        66085.0       3885.0\n",
              "1            176500.0        35990.0       1510.0\n",
              "2            270500.0        57934.0       3589.0\n",
              "3            330000.0        61359.0         67.0\n",
              "4             81700.0        29375.0       1241.0"
            ]
          },
          "execution_count": 14,
          "metadata": {},
          "output_type": "execute_result"
        }
      ],
      "source": [
        "# import tools\n",
        "import pandas as pd\n",
        "import statsmodels.api as sm\n",
        "from patsy import dmatrices\n",
        "\n",
        "# import dataset, restrict to variables of interest\n",
        "df = pd.read_csv('california_housing_test.csv')\n",
        "vars = ['median_house_value', 'median_income', 'total_rooms']\n",
        "df = df[vars]\n",
        "\n",
        "# scale income which is measured in 10,000 of dollars\n",
        "df['median_income'] = 10000 * df['median_income'] \n",
        "\n",
        "# dmatrices() automatically adds a constant value for X matrix\n",
        "y, X = dmatrices('median_house_value ~ median_income', data=df, return_type='dataframe')\n",
        "\n",
        "# show first five observations\n",
        "df.head()"
      ]
    },
    {
      "cell_type": "markdown",
      "metadata": {
        "id": "NrkVA2HE7xjx"
      },
      "source": [
        "## 4.3 Regression Results\n",
        "\n",
        "Now we use the built-in tools to compute 2 linear regression models. Model 1 predicts median house value with only median income as the predictor variable, while Model 2 also includes total rooms as a predictor variable.\n",
        "\n",
        "We expect that the relationship between median house value and total rooms to be slight, since their correlation coefficient is low. \n",
        "\n"
      ]
    },
    {
      "cell_type": "code",
      "execution_count": 15,
      "metadata": {
        "colab": {
          "base_uri": "https://localhost:8080/"
        },
        "id": "KHALWT9GgexE",
        "outputId": "2d1ca443-497e-4c47-92d1-600926900765"
      },
      "outputs": [
        {
          "name": "stdout",
          "output_type": "stream",
          "text": [
            "                            OLS Regression Results                            \n",
            "==============================================================================\n",
            "Dep. Variable:     median_house_value   R-squared:                       0.453\n",
            "Model:                            OLS   Adj. R-squared:                  0.452\n",
            "Method:                 Least Squares   F-statistic:                     2478.\n",
            "Date:                Sat, 20 Aug 2022   Prob (F-statistic):               0.00\n",
            "Time:                        18:45:34   Log-Likelihood:                -38261.\n",
            "No. Observations:                3000   AIC:                         7.653e+04\n",
            "Df Residuals:                    2998   BIC:                         7.654e+04\n",
            "Df Model:                           1                                         \n",
            "Covariance Type:            nonrobust                                         \n",
            "=================================================================================\n",
            "                    coef    std err          t      P>|t|      [0.025      0.975]\n",
            "---------------------------------------------------------------------------------\n",
            "Intercept      4.962e+04   3490.668     14.216      0.000    4.28e+04    5.65e+04\n",
            "median_income     4.1032      0.082     49.779      0.000       3.942       4.265\n",
            "==============================================================================\n",
            "Omnibus:                      618.746   Durbin-Watson:                   2.035\n",
            "Prob(Omnibus):                  0.000   Jarque-Bera (JB):             1273.306\n",
            "Skew:                           1.207   Prob(JB):                    3.20e-277\n",
            "Kurtosis:                       5.087   Cond. No.                     9.67e+04\n",
            "==============================================================================\n",
            "\n",
            "Notes:\n",
            "[1] Standard Errors assume that the covariance matrix of the errors is correctly specified.\n",
            "[2] The condition number is large, 9.67e+04. This might indicate that there are\n",
            "strong multicollinearity or other numerical problems.\n",
            "                            OLS Regression Results                            \n",
            "==============================================================================\n",
            "Dep. Variable:     median_house_value   R-squared:                       0.453\n",
            "Model:                            OLS   Adj. R-squared:                  0.452\n",
            "Method:                 Least Squares   F-statistic:                     1239.\n",
            "Date:                Sat, 20 Aug 2022   Prob (F-statistic):               0.00\n",
            "Time:                        18:45:35   Log-Likelihood:                -38261.\n",
            "No. Observations:                3000   AIC:                         7.653e+04\n",
            "Df Residuals:                    2997   BIC:                         7.655e+04\n",
            "Df Model:                           2                                         \n",
            "Covariance Type:            nonrobust                                         \n",
            "=================================================================================\n",
            "                    coef    std err          t      P>|t|      [0.025      0.975]\n",
            "---------------------------------------------------------------------------------\n",
            "Intercept      4.859e+04   3684.335     13.188      0.000    4.14e+04    5.58e+04\n",
            "median_income     4.0868      0.085     48.349      0.000       3.921       4.253\n",
            "total_rooms       0.6397      0.727      0.880      0.379      -0.786       2.066\n",
            "==============================================================================\n",
            "Omnibus:                      620.369   Durbin-Watson:                   2.034\n",
            "Prob(Omnibus):                  0.000   Jarque-Bera (JB):             1277.077\n",
            "Skew:                           1.210   Prob(JB):                    4.86e-278\n",
            "Kurtosis:                       5.088   Cond. No.                     1.02e+05\n",
            "==============================================================================\n",
            "\n",
            "Notes:\n",
            "[1] Standard Errors assume that the covariance matrix of the errors is correctly specified.\n",
            "[2] The condition number is large, 1.02e+05. This might indicate that there are\n",
            "strong multicollinearity or other numerical problems.\n"
          ]
        }
      ],
      "source": [
        "# import tools\n",
        "import pandas as pd\n",
        "import statsmodels.api as sm\n",
        "from patsy import dmatrices\n",
        "\n",
        "# immport dataset, restrict to interested variables, scale median_income\n",
        "df = pd.read_csv('california_housing_test.csv')\n",
        "vars = ['median_house_value', 'median_income', 'total_rooms']\n",
        "df = df[vars]\n",
        "df['median_income'] = 10000 * df['median_income'] \n",
        "\n",
        "# dmatrices() automatically adds a constant value for X matrix\n",
        "y, X = dmatrices('median_house_value ~ median_income', data=df, return_type='dataframe')\n",
        "\n",
        "# simple linear regression\n",
        "model_1 = sm.OLS(y, X)    # Describe model\n",
        "results_1 = model_1.fit()       # Fit model\n",
        "print(results_1.summary())   # Summarize model\n",
        "\n",
        "# multiple linear regression\n",
        "y, X = dmatrices('median_house_value ~ median_income + total_rooms', data=df, return_type='dataframe')\n",
        "model_2 = sm.OLS(y, X)    # Describe model\n",
        "results_2 = model_2.fit()       # Fit model\n",
        "print(results_2.summary())   # Summarize model\n"
      ]
    },
    {
      "cell_type": "markdown",
      "metadata": {
        "id": "LpE09H-H8jaa"
      },
      "source": [
        "The results are as expected. Only the median_income coefficient is statistically significant (p-value < 0.05). The R-squared also does not deviate for the two models, which is a measure of the proportion of variance in the predicted value that is explained by the predictors (Model 2 does not explain variation in median house value more than Model 1). The interpretation for the median_income coefficient in Model 1 is for a one unit increase of median income, there is a 4.1032 increase in median house value. The intercept for Model 1 means that the median house value is $49,620 when all predictor values are zero. "
      ]
    },
    {
      "cell_type": "markdown",
      "metadata": {
        "id": "xb0TQsMd9X3e"
      },
      "source": [
        "## 4.4 Validate Our Estimates\n",
        "\n",
        "Now we want to see if our own tools which are built from linear algebra and programming fundamentals can compute the same reults. \n",
        "\n",
        "Note that Pandas stores data in objects called dataframes, we will have to convert them into nested lists for our functions. Compare our results in nested lists to the ones achieved using pre-built tools."
      ]
    },
    {
      "cell_type": "code",
      "execution_count": 16,
      "metadata": {
        "colab": {
          "base_uri": "https://localhost:8080/"
        },
        "id": "28DNI8H9pIwn",
        "outputId": "257b8891-2402-43d5-fb51-d7ed0ecb749e"
      },
      "outputs": [
        {
          "name": "stdout",
          "output_type": "stream",
          "text": [
            "[[-122.05, 37.37, 27.0, 3885.0, 661.0, 1537.0, 606.0, 6.6085, 344700.0], [-118.3, 34.26, 43.0, 1510.0, 310.0, 809.0, 277.0, 3.599, 176500.0], [-117.81, 33.78, 27.0, 3589.0, 507.0, 1484.0, 495.0, 5.7934, 270500.0], [-118.36, 33.82, 28.0, 67.0, 15.0, 49.0, 11.0, 6.1359, 330000.0], [-119.67, 36.33, 19.0, 1241.0, 244.0, 850.0, 237.0, 2.9375, 81700.0]]\n",
            "[[49624.778876955854], [4.103239913763026]]\n"
          ]
        }
      ],
      "source": [
        "# import the functions we have written \n",
        "import sys\n",
        "sys.path.insert(0,'')\n",
        "import my_functions\n",
        "\n",
        "# import data\n",
        "import pandas as pd\n",
        "df = pd.read_csv('california_housing_test.csv')\n",
        "\n",
        "# convert dataframe to nested lists\n",
        "df = df.values.tolist()\n",
        "median_house_value = transpose([[df[i][8] for i in range(len(df))]])\n",
        "median_income = transpose([[10000 * df[i][7] for i in range(len(df))]])\n",
        "\n",
        "# add vector of 1's for beta_0 coefficient to predictor variables matrix\n",
        "def add_constants(x):\n",
        "  for i in range(len(x)):\n",
        "    x[i].insert(0,1)\n",
        "  return x\n",
        "\n",
        "# put together wrapper function for calculating coefficients\n",
        "def coefficient(y,x):\n",
        "  x = add_constants(x)\n",
        "  return mult(invert(mult(transpose(x), x)), mult(transpose(x), y))\n",
        "\n",
        "# first five observations:\n",
        "print(df[:5][:])\n",
        "#compute coefficients for intercept and median_income\n",
        "print(coefficient(median_house_value, median_income))"
      ]
    },
    {
      "cell_type": "markdown",
      "metadata": {
        "id": "eial6d0z-vEj"
      },
      "source": [
        "We find that the same results are achieved. Now we validate the same for the second model:"
      ]
    },
    {
      "cell_type": "code",
      "execution_count": 17,
      "metadata": {
        "colab": {
          "base_uri": "https://localhost:8080/"
        },
        "id": "tQZ0MLq0xBAh",
        "outputId": "192eaba6-0c72-4a0a-86f8-a012cd0ec857"
      },
      "outputs": [
        {
          "name": "stdout",
          "output_type": "stream",
          "text": [
            "[[48588.09296842851], [4.086787690345522], [0.639744737291295]]\n"
          ]
        }
      ],
      "source": [
        "# import our functions\n",
        "import sys\n",
        "sys.path.insert(0,'')\n",
        "import my_functions\n",
        "\n",
        "# import data\n",
        "import pandas as pd\n",
        "df = pd.read_csv('california_housing_test.csv')\n",
        "df = df.values.tolist()\n",
        "\n",
        "# convert dataframe to nested lists\n",
        "median_house_value = transpose([[df[i][8] for i in range(len(df))]])\n",
        "X = transpose([[10000 * df[i][7] for i in range(len(df))]])\n",
        "[X[i].append(df[i][3]) for i in range(len(df))]\n",
        "\n",
        "# add vector of 1's for beta_0 coefficient to predictor variables matrix\n",
        "def add_constants(x):\n",
        "  for i in range(len(x)):\n",
        "    x[i].insert(0,1)\n",
        "  return x\n",
        "\n",
        "# put together wrapper function for calculating coefficients\n",
        "def coefficient(y,x):\n",
        "  x = add_constants(x)\n",
        "  return mult(invert(mult(transpose(x), x)), mult(transpose(x), y))\n",
        "\n",
        "# results\n",
        "print(coefficient(median_house_value, X))"
      ]
    },
    {
      "cell_type": "markdown",
      "metadata": {
        "id": "F0OgYgf7KYzt"
      },
      "source": [
        "Again, the same results for the coefficients are given, so we can be satisfied that the OLS estimators were computed correctly using our methods developed from linear algebra fundamentals."
      ]
    },
    {
      "cell_type": "markdown",
      "metadata": {
        "id": "YGU2FLHm0NzV"
      },
      "source": [
        "# 5.0 Conclusion\n",
        "\n",
        "This tutorial serves as the starting point for students of linear algebra. The validation of an important statistical result with deep linear algebra connections provides an idea of how linear algebra is behind many powerful ideas. By using its fundamental methods and programming concepts, an appreciation of practical application to real world problems is also provided. \n",
        "\n",
        "However, for brevity's sake significant gaps of knowledge exist in this tutorial. For example, the underlying assumptions that validate linear regression are ignored, and a lengthy geometrical interpretation of OLS estimators in linear algebra was omitted. \n",
        "\n",
        "On the other hand, it is hoped readers will appreciate that further exploration of statistical concepts can only be developed with knowledge of linear algebra, and that their practical application can be fully exploited by tools which are themselves inspired by linear algebra. "
      ]
    },
    {
      "cell_type": "markdown",
      "metadata": {
        "id": "9uCrZjm09Ve3"
      },
      "source": [
        "# 6.0 References"
      ]
    },
    {
      "cell_type": "markdown",
      "metadata": {
        "id": "9Q7hScVhBSlA"
      },
      "source": [
        "https://developers.google.com/machine-learning/crash-course/california-housing-data-description\n",
        "\n",
        "https://pandas.pydata.org/\n",
        "\n",
        "https://www.statsmodels.org/dev/gettingstarted.html\n",
        "\n",
        "Schott, J. R. (2017). Matrix analysis for statistics.\n"
      ]
    }
  ],
  "metadata": {
    "colab": {
      "collapsed_sections": [],
      "name": "Linear Estimation Tutorial",
      "provenance": [],
      "toc_visible": true
    },
    "kernelspec": {
      "display_name": "Python 3.10.6 ('venv_dir': venv)",
      "language": "python",
      "name": "python3"
    },
    "language_info": {
      "codemirror_mode": {
        "name": "ipython",
        "version": 3
      },
      "file_extension": ".py",
      "mimetype": "text/x-python",
      "name": "python",
      "nbconvert_exporter": "python",
      "pygments_lexer": "ipython3",
      "version": "3.10.6"
    },
    "vscode": {
      "interpreter": {
        "hash": "6f0534db663626d34794bb8c84f2236b038d63d796551af83c1b437d7704ab80"
      }
    }
  },
  "nbformat": 4,
  "nbformat_minor": 0
}
