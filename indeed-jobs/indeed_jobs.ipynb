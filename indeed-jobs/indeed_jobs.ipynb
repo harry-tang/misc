{
  "cells": [
    {
      "cell_type": "code",
      "execution_count": 2,
      "metadata": {
        "id": "YlKcaprjP9wB"
      },
      "outputs": [],
      "source": [
        "import pandas as pd\n",
        "import numpy as np\n",
        "import matplotlib.pyplot as plt\n",
        "import seaborn as sns\n",
        "from scipy import stats\n",
        "import statsmodels.api as sm\n",
        "from patsy import dmatrices"
      ]
    },
    {
      "cell_type": "code",
      "execution_count": 3,
      "metadata": {
        "colab": {
          "base_uri": "https://localhost:8080/"
        },
        "id": "nsJ458wtr62g",
        "outputId": "23a0f49d-ee5c-4a90-fb8f-854aa61252cc"
      },
      "outputs": [
        {
          "name": "stdout",
          "output_type": "stream",
          "text": [
            "Copying gs://indeed-jobs-2022/indeed_jobs/marketing_sample_for_indeed_com-jobs__20190501_20190731__30k_data.ldjson...\n",
            "/ [1 files][195.4 MiB/195.4 MiB]                                                \n",
            "Operation completed over 1 objects/195.4 MiB.                                    \n",
            "Copying gs://indeed-jobs-2022/indeed_jobs/marketing_sample_for_indeed_usa-indeed_usa_job__20200701_20200930__30k_data.ldjson...\n",
            "/ [1 files][244.0 MiB/244.0 MiB]                                                \n",
            "Operation completed over 1 objects/244.0 MiB.                                    \n",
            "Copying gs://indeed-jobs-2022/indeed_jobs/marketing_sample_for_indeed_usa-indeed_usa_job_data__20210401_20210630__30k_data.ldjson...\n",
            "\\ [1 files][246.9 MiB/246.9 MiB]                                                \n",
            "Operation completed over 1 objects/246.9 MiB.                                    \n"
          ]
        }
      ],
      "source": [
        "from google.colab import auth\n",
        "auth.authenticate_user()\n",
        "!gsutil cp gs://indeed-jobs-2022/indeed_jobs/marketing_sample_for_indeed_com-jobs__20190501_20190731__30k_data.ldjson /tmp/jobs2019.ldjson\n",
        "!gsutil cp gs://indeed-jobs-2022/indeed_jobs/marketing_sample_for_indeed_usa-indeed_usa_job__20200701_20200930__30k_data.ldjson /tmp/jobs2020.ldjson\n",
        "!gsutil cp gs://indeed-jobs-2022/indeed_jobs/marketing_sample_for_indeed_usa-indeed_usa_job_data__20210401_20210630__30k_data.ldjson /tmp/jobs2021.ldjson\n",
        "\n",
        "jobs2019 = pd.read_json(open('/tmp/jobs2019.ldjson'), lines=True)\n",
        "jobs2020 = pd.read_json(open('/tmp/jobs2020.ldjson'), lines=True)\n",
        "jobs2021 = pd.read_json(open('/tmp/jobs2021.ldjson'), lines=True)"
      ]
    },
    {
      "attachments": {},
      "cell_type": "markdown",
      "metadata": {},
      "source": [
        "# Data validation\n",
        "- unfortunately, there were many exceptions to the included jobs; they were excluded if there were more than 2 entries with excepted keywords"
      ]
    },
    {
      "cell_type": "code",
      "execution_count": 16,
      "metadata": {
        "colab": {
          "base_uri": "https://localhost:8080/"
        },
        "id": "utnOcsW1CH4c",
        "outputId": "233e4674-59f7-4222-a113-efbb8d26e333"
      },
      "outputs": [
        {
          "name": "stdout",
          "output_type": "stream",
          "text": [
            "<class 'pandas.core.frame.DataFrame'>\n",
            "Int64Index: 2514 entries, 5 to 29907\n",
            "Data columns (total 9 columns):\n",
            " #   Column           Non-Null Count  Dtype \n",
            "---  ------           --------------  ----- \n",
            " 0   job_title        2514 non-null   object\n",
            " 1   category         2514 non-null   object\n",
            " 2   company_name     2514 non-null   object\n",
            " 3   city             2470 non-null   object\n",
            " 4   state            2337 non-null   object\n",
            " 5   country          2514 non-null   object\n",
            " 6   job_description  2514 non-null   object\n",
            " 7   y20              2514 non-null   int64 \n",
            " 8   y21              2514 non-null   int64 \n",
            "dtypes: int64(2), object(7)\n",
            "memory usage: 196.4+ KB\n"
          ]
        }
      ],
      "source": [
        "# useable columns after inspection of data\n",
        "columns = ['job_title', 'category', 'company_name', 'city', 'state', 'country', 'job_description']\n",
        "\n",
        "# re-order and keep useable columns\n",
        "jobs2019 = jobs2019[columns]\n",
        "jobs2020 = jobs2020[columns]\n",
        "jobs2021 = jobs2021[columns]\n",
        "\n",
        "# add indicator var for years\n",
        "jobs2019.loc[:, ['y20', 'y21']] = 0 \n",
        "jobs2020.loc[:, 'y20'] = 1\n",
        "jobs2020.loc[:, 'y21'] = 0\n",
        "jobs2021.loc[:, 'y20'] = 0\n",
        "jobs2021.loc[:, 'y21'] = 1\n",
        "\n",
        "# combine datasets\n",
        "df = pd.concat([jobs2019, jobs2020, jobs2021])\n",
        "\n",
        "# filter country\n",
        "df.loc[df['country'] == 'Usa', 'country'] = 'US'\n",
        "df = df[df['country'] == 'US']\n",
        "\n",
        "# format all strings to lowercase\n",
        "for col in columns:\n",
        "  df[col] = df[col].str.lower()\n",
        "\n",
        "# filter job_titles\n",
        "datajobs = ['data', 'analy', 'machine learning', 'business intelligence', \n",
        "            ' bi ', 'statistic', 'marketing scientist' ]\n",
        "df = df[df['job_title'].str.contains('|'.join(datajobs))]\n",
        "\n",
        "exceptionjobs = ['data entry', 'business', 'cultural', ' qa ', 'quality', 'lab', 'exploitation', 'clerk', ' qc ' , 'security', 'invest', 'bio', 'vulnerab', 'account', \n",
        "                 'portfolio', 'program', 'credit', 'treasury', 'imagery', 'intelligence', 'help desk', 'management analy', 'technical support', 'criminal', 'behavio', \n",
        "                 'field', 'policy', 'threat', 'pc', 'compliance']\n",
        "df = df[~df['job_title'].str.contains('|'.join(exceptionjobs))]\n",
        "\n",
        "# format state\n",
        "df.loc[:, 'state'] = df['state'].str[:2]\n",
        "\n",
        "df.info()"
      ]
    },
    {
      "attachments": {},
      "cell_type": "markdown",
      "metadata": {
        "id": "PcWGwQz2C6MD"
      },
      "source": [
        "# Data mining; seniority, skills, and tools data\n",
        "- indicator variables created for skills and tools \n",
        "- only used job description for skills and tools \n",
        "- note special handling for R in tools \n",
        "- one exception (risk manager) for seniority classification"
      ]
    },
    {
      "cell_type": "code",
      "execution_count": 5,
      "metadata": {
        "colab": {
          "base_uri": "https://localhost:8080/"
        },
        "id": "dgLdXIEh5vda",
        "outputId": "e848ec2f-dba7-408e-c96c-d41d0f1eb3ea"
      },
      "outputs": [
        {
          "data": {
            "text/plain": [
              "(   transformation  technical  analysis  visualization\n",
              " 0            1678       1674       186           1963\n",
              " 1             836        840      2328            551,\n",
              "    python     r   sql  excel  tableau  power bi\n",
              " 0    2146  2348  1856    967     2275      2420\n",
              " 1     368   166   658   1547      239        94)"
            ]
          },
          "execution_count": 5,
          "metadata": {},
          "output_type": "execute_result"
        }
      ],
      "source": [
        "# create seniority indicator variable\n",
        "senior = ['ii', 'senior', 'manager']\n",
        "\n",
        "df['seniority'] = 0\n",
        "df.loc[(df['job_title'].str.contains('|'.join(senior))) | (df['job_description'].str.contains('|'.join(senior))),'seniority'] = 1\n",
        "df.loc[(df['job_title'].str.contains('risk manager')),'seniority'] = 0\n",
        "\n",
        "# create skill indicator variables\n",
        "skills = ['transformation', 'technical', 'analysis', 'visualization']\n",
        "df[skills] = [0, 0, 0, 0]\n",
        "\n",
        "transform = ['clean', 'data prepar', 'transform', 'wrangl', 'manipulat', 'validat']\n",
        "advanced = ['machine learn', 'ML', 'big data', 'engineer']\n",
        "analytical = ['analy', 'statistic']\n",
        "visual = ['visual', 'dashboard']\n",
        "\n",
        "df.loc[df['job_description'].str.contains('|'.join(transform)),'transformation'] = 1\n",
        "df.loc[df['job_description'].str.contains('|'.join(advanced)),'technical'] = 1\n",
        "df.loc[df['job_description'].str.contains('|'.join(analytical)),'analysis'] = 1\n",
        "df.loc[df['job_description'].str.contains('|'.join(visual)),'visualization'] = 1\n",
        "\n",
        "# create tool indicator variables\n",
        "tools = ['python', 'r', 'sql', 'excel', 'tableau', 'power bi']\n",
        "df[tools] = [0, 0, 0, 0, 0, 0]\n",
        "\n",
        "df.loc[df['job_description'].str.contains('python'),'python'] = 1\n",
        "df.loc[df['job_description'].str.contains(' r | r,|rstudio'),'r'] = 1\n",
        "df.loc[df['job_description'].str.contains('sql'),'sql'] = 1\n",
        "df.loc[df['job_description'].str.contains('excel'),'excel'] = 1\n",
        "df.loc[df['job_description'].str.contains('tableau'),'tableau'] = 1\n",
        "df.loc[df['job_description'].str.contains('power bi'),'power bi'] = 1\n",
        "\n",
        "df[skills].apply(df.value_counts), df[tools].apply(df.value_counts)\n",
        "\n"
      ]
    },
    {
      "attachments": {},
      "cell_type": "markdown",
      "metadata": {
        "id": "A79T1WzrI6Dk"
      },
      "source": [
        "# Univariate analysis\n",
        "- descriptive statistics for frequency of jobs vs state/region and industry"
      ]
    },
    {
      "cell_type": "code",
      "execution_count": 6,
      "metadata": {
        "colab": {
          "base_uri": "https://localhost:8080/",
          "height": 551
        },
        "id": "WId2jBwrKAFl",
        "outputId": "7db38420-d456-46a4-e13b-3a09580d3595"
      },
      "outputs": [
        {
          "data": {
            "text/html": [
              "\n",
              "  <div id=\"df-212f0847-d817-411e-bab3-6945ddc1895e\">\n",
              "    <div class=\"colab-df-container\">\n",
              "      <div>\n",
              "<style scoped>\n",
              "    .dataframe tbody tr th:only-of-type {\n",
              "        vertical-align: middle;\n",
              "    }\n",
              "\n",
              "    .dataframe tbody tr th {\n",
              "        vertical-align: top;\n",
              "    }\n",
              "\n",
              "    .dataframe thead th {\n",
              "        text-align: right;\n",
              "    }\n",
              "</style>\n",
              "<table border=\"1\" class=\"dataframe\">\n",
              "  <thead>\n",
              "    <tr style=\"text-align: right;\">\n",
              "      <th></th>\n",
              "      <th>state</th>\n",
              "      <th>frequency</th>\n",
              "      <th>proportion</th>\n",
              "      <th>percent</th>\n",
              "    </tr>\n",
              "  </thead>\n",
              "  <tbody>\n",
              "    <tr>\n",
              "      <th>0</th>\n",
              "      <td>ca</td>\n",
              "      <td>321.0</td>\n",
              "      <td>0.137356</td>\n",
              "      <td>13.7%</td>\n",
              "    </tr>\n",
              "    <tr>\n",
              "      <th>1</th>\n",
              "      <td>tx</td>\n",
              "      <td>198.0</td>\n",
              "      <td>0.084724</td>\n",
              "      <td>8.5%</td>\n",
              "    </tr>\n",
              "    <tr>\n",
              "      <th>2</th>\n",
              "      <td>ny</td>\n",
              "      <td>160.0</td>\n",
              "      <td>0.068464</td>\n",
              "      <td>6.8%</td>\n",
              "    </tr>\n",
              "    <tr>\n",
              "      <th>3</th>\n",
              "      <td>va</td>\n",
              "      <td>155.0</td>\n",
              "      <td>0.066324</td>\n",
              "      <td>6.6%</td>\n",
              "    </tr>\n",
              "    <tr>\n",
              "      <th>4</th>\n",
              "      <td>il</td>\n",
              "      <td>110.0</td>\n",
              "      <td>0.047069</td>\n",
              "      <td>4.7%</td>\n",
              "    </tr>\n",
              "    <tr>\n",
              "      <th>5</th>\n",
              "      <td>fl</td>\n",
              "      <td>109.0</td>\n",
              "      <td>0.046641</td>\n",
              "      <td>4.7%</td>\n",
              "    </tr>\n",
              "    <tr>\n",
              "      <th>6</th>\n",
              "      <td>md</td>\n",
              "      <td>83.0</td>\n",
              "      <td>0.035516</td>\n",
              "      <td>3.6%</td>\n",
              "    </tr>\n",
              "    <tr>\n",
              "      <th>7</th>\n",
              "      <td>ma</td>\n",
              "      <td>79.0</td>\n",
              "      <td>0.033804</td>\n",
              "      <td>3.4%</td>\n",
              "    </tr>\n",
              "    <tr>\n",
              "      <th>8</th>\n",
              "      <td>nc</td>\n",
              "      <td>76.0</td>\n",
              "      <td>0.032520</td>\n",
              "      <td>3.3%</td>\n",
              "    </tr>\n",
              "    <tr>\n",
              "      <th>9</th>\n",
              "      <td>ga</td>\n",
              "      <td>73.0</td>\n",
              "      <td>0.031237</td>\n",
              "      <td>3.1%</td>\n",
              "    </tr>\n",
              "    <tr>\n",
              "      <th>10</th>\n",
              "      <td>pa</td>\n",
              "      <td>73.0</td>\n",
              "      <td>0.031237</td>\n",
              "      <td>3.1%</td>\n",
              "    </tr>\n",
              "    <tr>\n",
              "      <th>11</th>\n",
              "      <td>dc</td>\n",
              "      <td>73.0</td>\n",
              "      <td>0.031237</td>\n",
              "      <td>3.1%</td>\n",
              "    </tr>\n",
              "    <tr>\n",
              "      <th>12</th>\n",
              "      <td>nj</td>\n",
              "      <td>65.0</td>\n",
              "      <td>0.027813</td>\n",
              "      <td>2.8%</td>\n",
              "    </tr>\n",
              "    <tr>\n",
              "      <th>13</th>\n",
              "      <td>oh</td>\n",
              "      <td>65.0</td>\n",
              "      <td>0.027813</td>\n",
              "      <td>2.8%</td>\n",
              "    </tr>\n",
              "    <tr>\n",
              "      <th>14</th>\n",
              "      <td>co</td>\n",
              "      <td>62.0</td>\n",
              "      <td>0.026530</td>\n",
              "      <td>2.7%</td>\n",
              "    </tr>\n",
              "    <tr>\n",
              "      <th>60</th>\n",
              "      <td>other</td>\n",
              "      <td>635.0</td>\n",
              "      <td>0.271716</td>\n",
              "      <td>27.2%</td>\n",
              "    </tr>\n",
              "  </tbody>\n",
              "</table>\n",
              "</div>\n",
              "      <button class=\"colab-df-convert\" onclick=\"convertToInteractive('df-212f0847-d817-411e-bab3-6945ddc1895e')\"\n",
              "              title=\"Convert this dataframe to an interactive table.\"\n",
              "              style=\"display:none;\">\n",
              "        \n",
              "  <svg xmlns=\"http://www.w3.org/2000/svg\" height=\"24px\"viewBox=\"0 0 24 24\"\n",
              "       width=\"24px\">\n",
              "    <path d=\"M0 0h24v24H0V0z\" fill=\"none\"/>\n",
              "    <path d=\"M18.56 5.44l.94 2.06.94-2.06 2.06-.94-2.06-.94-.94-2.06-.94 2.06-2.06.94zm-11 1L8.5 8.5l.94-2.06 2.06-.94-2.06-.94L8.5 2.5l-.94 2.06-2.06.94zm10 10l.94 2.06.94-2.06 2.06-.94-2.06-.94-.94-2.06-.94 2.06-2.06.94z\"/><path d=\"M17.41 7.96l-1.37-1.37c-.4-.4-.92-.59-1.43-.59-.52 0-1.04.2-1.43.59L10.3 9.45l-7.72 7.72c-.78.78-.78 2.05 0 2.83L4 21.41c.39.39.9.59 1.41.59.51 0 1.02-.2 1.41-.59l7.78-7.78 2.81-2.81c.8-.78.8-2.07 0-2.86zM5.41 20L4 18.59l7.72-7.72 1.47 1.35L5.41 20z\"/>\n",
              "  </svg>\n",
              "      </button>\n",
              "      \n",
              "  <style>\n",
              "    .colab-df-container {\n",
              "      display:flex;\n",
              "      flex-wrap:wrap;\n",
              "      gap: 12px;\n",
              "    }\n",
              "\n",
              "    .colab-df-convert {\n",
              "      background-color: #E8F0FE;\n",
              "      border: none;\n",
              "      border-radius: 50%;\n",
              "      cursor: pointer;\n",
              "      display: none;\n",
              "      fill: #1967D2;\n",
              "      height: 32px;\n",
              "      padding: 0 0 0 0;\n",
              "      width: 32px;\n",
              "    }\n",
              "\n",
              "    .colab-df-convert:hover {\n",
              "      background-color: #E2EBFA;\n",
              "      box-shadow: 0px 1px 2px rgba(60, 64, 67, 0.3), 0px 1px 3px 1px rgba(60, 64, 67, 0.15);\n",
              "      fill: #174EA6;\n",
              "    }\n",
              "\n",
              "    [theme=dark] .colab-df-convert {\n",
              "      background-color: #3B4455;\n",
              "      fill: #D2E3FC;\n",
              "    }\n",
              "\n",
              "    [theme=dark] .colab-df-convert:hover {\n",
              "      background-color: #434B5C;\n",
              "      box-shadow: 0px 1px 3px 1px rgba(0, 0, 0, 0.15);\n",
              "      filter: drop-shadow(0px 1px 2px rgba(0, 0, 0, 0.3));\n",
              "      fill: #FFFFFF;\n",
              "    }\n",
              "  </style>\n",
              "\n",
              "      <script>\n",
              "        const buttonEl =\n",
              "          document.querySelector('#df-212f0847-d817-411e-bab3-6945ddc1895e button.colab-df-convert');\n",
              "        buttonEl.style.display =\n",
              "          google.colab.kernel.accessAllowed ? 'block' : 'none';\n",
              "\n",
              "        async function convertToInteractive(key) {\n",
              "          const element = document.querySelector('#df-212f0847-d817-411e-bab3-6945ddc1895e');\n",
              "          const dataTable =\n",
              "            await google.colab.kernel.invokeFunction('convertToInteractive',\n",
              "                                                     [key], {});\n",
              "          if (!dataTable) return;\n",
              "\n",
              "          const docLinkHtml = 'Like what you see? Visit the ' +\n",
              "            '<a target=\"_blank\" href=https://colab.research.google.com/notebooks/data_table.ipynb>data table notebook</a>'\n",
              "            + ' to learn more about interactive tables.';\n",
              "          element.innerHTML = '';\n",
              "          dataTable['output_type'] = 'display_data';\n",
              "          await google.colab.output.renderOutput(dataTable, element);\n",
              "          const docLink = document.createElement('div');\n",
              "          docLink.innerHTML = docLinkHtml;\n",
              "          element.appendChild(docLink);\n",
              "        }\n",
              "      </script>\n",
              "    </div>\n",
              "  </div>\n",
              "  "
            ],
            "text/plain": [
              "    state  frequency  proportion percent\n",
              "0      ca      321.0    0.137356   13.7%\n",
              "1      tx      198.0    0.084724    8.5%\n",
              "2      ny      160.0    0.068464    6.8%\n",
              "3      va      155.0    0.066324    6.6%\n",
              "4      il      110.0    0.047069    4.7%\n",
              "5      fl      109.0    0.046641    4.7%\n",
              "6      md       83.0    0.035516    3.6%\n",
              "7      ma       79.0    0.033804    3.4%\n",
              "8      nc       76.0    0.032520    3.3%\n",
              "9      ga       73.0    0.031237    3.1%\n",
              "10     pa       73.0    0.031237    3.1%\n",
              "11     dc       73.0    0.031237    3.1%\n",
              "12     nj       65.0    0.027813    2.8%\n",
              "13     oh       65.0    0.027813    2.8%\n",
              "14     co       62.0    0.026530    2.7%\n",
              "60  other      635.0    0.271716   27.2%"
            ]
          },
          "execution_count": 6,
          "metadata": {},
          "output_type": "execute_result"
        }
      ],
      "source": [
        "# create frequency table\n",
        "statetable = df['state'].value_counts().rename_axis('state').reset_index(name='frequency')\n",
        "\n",
        "# collapse to first 15 states, add rest to other\n",
        "other_count = statetable.iloc[15:, 1].sum()\n",
        "statetable.loc[len(statetable['state']),:] = ['other', other_count]\n",
        "statetable = statetable.drop(list(range(15, 60)))\n",
        "\n",
        "# add proportion, percentage\n",
        "statetable['proportion'] = statetable['frequency'] / (statetable['frequency'].sum())\n",
        "statetable['percent'] = statetable['proportion'].mul(100).round(1).astype(str) + '%'\n",
        "\n",
        "statetable"
      ]
    },
    {
      "cell_type": "code",
      "execution_count": 7,
      "metadata": {
        "colab": {
          "base_uri": "https://localhost:8080/",
          "height": 394
        },
        "id": "gE-6ZyeS4Wv4",
        "outputId": "d6e3dbd8-1d25-49a2-f072-951aac59c3da"
      },
      "outputs": [
        {
          "data": {
            "text/html": [
              "\n",
              "  <div id=\"df-f8755aba-35c0-4118-ba78-40c81c48852e\">\n",
              "    <div class=\"colab-df-container\">\n",
              "      <div>\n",
              "<style scoped>\n",
              "    .dataframe tbody tr th:only-of-type {\n",
              "        vertical-align: middle;\n",
              "    }\n",
              "\n",
              "    .dataframe tbody tr th {\n",
              "        vertical-align: top;\n",
              "    }\n",
              "\n",
              "    .dataframe thead th {\n",
              "        text-align: right;\n",
              "    }\n",
              "</style>\n",
              "<table border=\"1\" class=\"dataframe\">\n",
              "  <thead>\n",
              "    <tr style=\"text-align: right;\">\n",
              "      <th></th>\n",
              "      <th>industry</th>\n",
              "      <th>frequency</th>\n",
              "      <th>proportion</th>\n",
              "      <th>percent</th>\n",
              "    </tr>\n",
              "  </thead>\n",
              "  <tbody>\n",
              "    <tr>\n",
              "      <th>0</th>\n",
              "      <td>computer-or-internet</td>\n",
              "      <td>529.0</td>\n",
              "      <td>0.210422</td>\n",
              "      <td>21.0%</td>\n",
              "    </tr>\n",
              "    <tr>\n",
              "      <th>1</th>\n",
              "      <td>accounting-or-finance</td>\n",
              "      <td>376.0</td>\n",
              "      <td>0.149562</td>\n",
              "      <td>15.0%</td>\n",
              "    </tr>\n",
              "    <tr>\n",
              "      <th>2</th>\n",
              "      <td>administrative</td>\n",
              "      <td>245.0</td>\n",
              "      <td>0.097454</td>\n",
              "      <td>9.7%</td>\n",
              "    </tr>\n",
              "    <tr>\n",
              "      <th>3</th>\n",
              "      <td>manufacturing-or-mechanical</td>\n",
              "      <td>185.0</td>\n",
              "      <td>0.073588</td>\n",
              "      <td>7.4%</td>\n",
              "    </tr>\n",
              "    <tr>\n",
              "      <th>4</th>\n",
              "      <td>banking-or-loans</td>\n",
              "      <td>159.0</td>\n",
              "      <td>0.063246</td>\n",
              "      <td>6.3%</td>\n",
              "    </tr>\n",
              "    <tr>\n",
              "      <th>5</th>\n",
              "      <td>engineering-or-architecture</td>\n",
              "      <td>157.0</td>\n",
              "      <td>0.062450</td>\n",
              "      <td>6.2%</td>\n",
              "    </tr>\n",
              "    <tr>\n",
              "      <th>6</th>\n",
              "      <td>upper-management-or-consulting</td>\n",
              "      <td>109.0</td>\n",
              "      <td>0.043357</td>\n",
              "      <td>4.3%</td>\n",
              "    </tr>\n",
              "    <tr>\n",
              "      <th>7</th>\n",
              "      <td>marketing-or-advertising-or-pr</td>\n",
              "      <td>76.0</td>\n",
              "      <td>0.030231</td>\n",
              "      <td>3.0%</td>\n",
              "    </tr>\n",
              "    <tr>\n",
              "      <th>8</th>\n",
              "      <td>accounting/finance</td>\n",
              "      <td>71.0</td>\n",
              "      <td>0.028242</td>\n",
              "      <td>2.8%</td>\n",
              "    </tr>\n",
              "    <tr>\n",
              "      <th>9</th>\n",
              "      <td>government-or-military</td>\n",
              "      <td>70.0</td>\n",
              "      <td>0.027844</td>\n",
              "      <td>2.8%</td>\n",
              "    </tr>\n",
              "    <tr>\n",
              "      <th>41</th>\n",
              "      <td>other</td>\n",
              "      <td>537.0</td>\n",
              "      <td>0.213604</td>\n",
              "      <td>21.4%</td>\n",
              "    </tr>\n",
              "  </tbody>\n",
              "</table>\n",
              "</div>\n",
              "      <button class=\"colab-df-convert\" onclick=\"convertToInteractive('df-f8755aba-35c0-4118-ba78-40c81c48852e')\"\n",
              "              title=\"Convert this dataframe to an interactive table.\"\n",
              "              style=\"display:none;\">\n",
              "        \n",
              "  <svg xmlns=\"http://www.w3.org/2000/svg\" height=\"24px\"viewBox=\"0 0 24 24\"\n",
              "       width=\"24px\">\n",
              "    <path d=\"M0 0h24v24H0V0z\" fill=\"none\"/>\n",
              "    <path d=\"M18.56 5.44l.94 2.06.94-2.06 2.06-.94-2.06-.94-.94-2.06-.94 2.06-2.06.94zm-11 1L8.5 8.5l.94-2.06 2.06-.94-2.06-.94L8.5 2.5l-.94 2.06-2.06.94zm10 10l.94 2.06.94-2.06 2.06-.94-2.06-.94-.94-2.06-.94 2.06-2.06.94z\"/><path d=\"M17.41 7.96l-1.37-1.37c-.4-.4-.92-.59-1.43-.59-.52 0-1.04.2-1.43.59L10.3 9.45l-7.72 7.72c-.78.78-.78 2.05 0 2.83L4 21.41c.39.39.9.59 1.41.59.51 0 1.02-.2 1.41-.59l7.78-7.78 2.81-2.81c.8-.78.8-2.07 0-2.86zM5.41 20L4 18.59l7.72-7.72 1.47 1.35L5.41 20z\"/>\n",
              "  </svg>\n",
              "      </button>\n",
              "      \n",
              "  <style>\n",
              "    .colab-df-container {\n",
              "      display:flex;\n",
              "      flex-wrap:wrap;\n",
              "      gap: 12px;\n",
              "    }\n",
              "\n",
              "    .colab-df-convert {\n",
              "      background-color: #E8F0FE;\n",
              "      border: none;\n",
              "      border-radius: 50%;\n",
              "      cursor: pointer;\n",
              "      display: none;\n",
              "      fill: #1967D2;\n",
              "      height: 32px;\n",
              "      padding: 0 0 0 0;\n",
              "      width: 32px;\n",
              "    }\n",
              "\n",
              "    .colab-df-convert:hover {\n",
              "      background-color: #E2EBFA;\n",
              "      box-shadow: 0px 1px 2px rgba(60, 64, 67, 0.3), 0px 1px 3px 1px rgba(60, 64, 67, 0.15);\n",
              "      fill: #174EA6;\n",
              "    }\n",
              "\n",
              "    [theme=dark] .colab-df-convert {\n",
              "      background-color: #3B4455;\n",
              "      fill: #D2E3FC;\n",
              "    }\n",
              "\n",
              "    [theme=dark] .colab-df-convert:hover {\n",
              "      background-color: #434B5C;\n",
              "      box-shadow: 0px 1px 3px 1px rgba(0, 0, 0, 0.15);\n",
              "      filter: drop-shadow(0px 1px 2px rgba(0, 0, 0, 0.3));\n",
              "      fill: #FFFFFF;\n",
              "    }\n",
              "  </style>\n",
              "\n",
              "      <script>\n",
              "        const buttonEl =\n",
              "          document.querySelector('#df-f8755aba-35c0-4118-ba78-40c81c48852e button.colab-df-convert');\n",
              "        buttonEl.style.display =\n",
              "          google.colab.kernel.accessAllowed ? 'block' : 'none';\n",
              "\n",
              "        async function convertToInteractive(key) {\n",
              "          const element = document.querySelector('#df-f8755aba-35c0-4118-ba78-40c81c48852e');\n",
              "          const dataTable =\n",
              "            await google.colab.kernel.invokeFunction('convertToInteractive',\n",
              "                                                     [key], {});\n",
              "          if (!dataTable) return;\n",
              "\n",
              "          const docLinkHtml = 'Like what you see? Visit the ' +\n",
              "            '<a target=\"_blank\" href=https://colab.research.google.com/notebooks/data_table.ipynb>data table notebook</a>'\n",
              "            + ' to learn more about interactive tables.';\n",
              "          element.innerHTML = '';\n",
              "          dataTable['output_type'] = 'display_data';\n",
              "          await google.colab.output.renderOutput(dataTable, element);\n",
              "          const docLink = document.createElement('div');\n",
              "          docLink.innerHTML = docLinkHtml;\n",
              "          element.appendChild(docLink);\n",
              "        }\n",
              "      </script>\n",
              "    </div>\n",
              "  </div>\n",
              "  "
            ],
            "text/plain": [
              "                          industry  frequency  proportion percent\n",
              "0             computer-or-internet      529.0    0.210422   21.0%\n",
              "1            accounting-or-finance      376.0    0.149562   15.0%\n",
              "2                   administrative      245.0    0.097454    9.7%\n",
              "3      manufacturing-or-mechanical      185.0    0.073588    7.4%\n",
              "4                 banking-or-loans      159.0    0.063246    6.3%\n",
              "5      engineering-or-architecture      157.0    0.062450    6.2%\n",
              "6   upper-management-or-consulting      109.0    0.043357    4.3%\n",
              "7   marketing-or-advertising-or-pr       76.0    0.030231    3.0%\n",
              "8               accounting/finance       71.0    0.028242    2.8%\n",
              "9           government-or-military       70.0    0.027844    2.8%\n",
              "41                           other      537.0    0.213604   21.4%"
            ]
          },
          "execution_count": 7,
          "metadata": {},
          "output_type": "execute_result"
        }
      ],
      "source": [
        "# create frequency table\n",
        "industrytable = df['category'].value_counts().rename_axis('industry').reset_index(name='frequency')\n",
        "\n",
        "# collapse to first 10 categories, add rest to 'other\n",
        "other_count = industrytable.iloc[10:, 1].sum()\n",
        "industrytable.loc[len(industrytable['industry']),:] = ['other', other_count]\n",
        "industrytable = industrytable.drop(list(range(10, 41)))\n",
        "\n",
        "# add proportion, percentage\n",
        "industrytable['proportion'] = industrytable['frequency'] / (industrytable['frequency'].sum())\n",
        "industrytable['percent'] = industrytable['proportion'].mul(100).round(1).astype(str) + '%'\n",
        "\n",
        "industrytable"
      ]
    },
    {
      "attachments": {},
      "cell_type": "markdown",
      "metadata": {
        "id": "m0UtffpGKcio"
      },
      "source": [
        "## Bivariate analysis\n",
        "\n",
        "Check for relationships between seniority and variables of interest:\n",
        "- since all categorical data, most appropriate method would be using chi-square test\n",
        "- considered logistic regression\n",
        "- can safely omit discussion of assumptions for chi-square test as frequency of every cell is quite large\n",
        "\n",
        "Results:\n",
        "- unexpected finding; more senior level workers for both having and not having a particular skill/tool\n",
        "  - potential factor; some skills are more universal, whereas some skills not required for management focused roles?\n",
        "  - exception/opposite or null effect: analysis, python, r, excel\n",
        "\n",
        "- significant (p-value<0.05): analysis, visualization, excel, also sql nearly significant \n",
        "  - not sure for what reason these skills/tools relation with seniority \n",
        "  - potential factors:\n",
        "    - suggests that basics are important (analysis, excel, sql)\n",
        "    - also some skills are specialized? (visualization)"
      ]
    },
    {
      "cell_type": "code",
      "execution_count": 8,
      "metadata": {
        "colab": {
          "base_uri": "https://localhost:8080/",
          "height": 1000
        },
        "id": "1zT61uSdK0uR",
        "outputId": "1679df66-c877-40bd-f70c-87cce117cec8"
      },
      "outputs": [
        {
          "name": "stdout",
          "output_type": "stream",
          "text": [
            "seniority         0    1\n",
            "transformation          \n",
            "0               766  912\n",
            "1               361  475\n",
            "Chi-sq value= 1.2759826897053277, p-value= 0.25864732455600536, Degrees of freedom= 1\n",
            "seniority    0    1\n",
            "technical          \n",
            "0          762  912\n",
            "1          365  475\n",
            "Chi-sq value= 0.884760709269525, p-value= 0.34690106644001095, Degrees of freedom= 1\n",
            "seniority     0     1\n",
            "analysis             \n",
            "0           104    82\n",
            "1          1023  1305\n",
            "Chi-sq value= 9.501126639428461, p-value= 0.0020534577317980105, Degrees of freedom= 1\n",
            "seniority        0     1\n",
            "visualization           \n",
            "0              915  1048\n",
            "1              212   339\n",
            "Chi-sq value= 11.190564366653609, p-value= 0.0008221433525602478, Degrees of freedom= 1\n",
            "seniority    0     1\n",
            "python              \n",
            "0          956  1190\n",
            "1          171   197\n",
            "Chi-sq value= 0.393531450766397, p-value= 0.5304489379004338, Degrees of freedom= 1\n",
            "seniority     0     1\n",
            "r                    \n",
            "0          1047  1301\n",
            "1            80    86\n",
            "Chi-sq value= 0.6740442143837556, p-value= 0.41164515315711836, Degrees of freedom= 1\n",
            "seniority    0     1\n",
            "sql                 \n",
            "0          854  1002\n",
            "1          273   385\n",
            "Chi-sq value= 3.8383044582955903, p-value= 0.05009415493936031, Degrees of freedom= 1\n",
            "seniority    0    1\n",
            "excel              \n",
            "0          468  499\n",
            "1          659  888\n",
            "Chi-sq value= 7.856662566621351, p-value= 0.005063377006620638, Degrees of freedom= 1\n",
            "seniority     0     1\n",
            "tableau              \n",
            "0          1049  1226\n",
            "1            78   161\n",
            "Chi-sq value= 15.335531795338603, p-value= 9.00075767203024e-05, Degrees of freedom= 1\n",
            "seniority     0     1\n",
            "power bi             \n",
            "0          1082  1338\n",
            "1            45    49\n",
            "Chi-sq value= 0.2490365683299372, p-value= 0.6177542776905643, Degrees of freedom= 1\n"
          ]
        },
        {
          "data": {
            "image/png": "[encoded data removed]",
            "text/plain": [
              "<Figure size 432x288 with 1 Axes>"
            ]
          },
          "metadata": {
            "needs_background": "light"
          },
          "output_type": "display_data"
        },
        {
          "data": {
            "image/png": "[encoded data removed]",
            "text/plain": [
              "<Figure size 432x288 with 1 Axes>"
            ]
          },
          "metadata": {
            "needs_background": "light"
          },
          "output_type": "display_data"
        },
        {
          "data": {
            "image/png": "[encoded data removed]",
            "text/plain": [
              "<Figure size 432x288 with 1 Axes>"
            ]
          },
          "metadata": {
            "needs_background": "light"
          },
          "output_type": "display_data"
        },
        {
          "data": {
            "image/png": "[encoded data removed]",
            "text/plain": [
              "<Figure size 432x288 with 1 Axes>"
            ]
          },
          "metadata": {
            "needs_background": "light"
          },
          "output_type": "display_data"
        },
        {
          "data": {
            "image/png": "[encoded data removed]",
            "text/plain": [
              "<Figure size 432x288 with 1 Axes>"
            ]
          },
          "metadata": {
            "needs_background": "light"
          },
          "output_type": "display_data"
        },
        {
          "data": {
            "image/png": "[encoded data removed]",
            "text/plain": [
              "<Figure size 432x288 with 1 Axes>"
            ]
          },
          "metadata": {
            "needs_background": "light"
          },
          "output_type": "display_data"
        },
        {
          "data": {
            "image/png": "[encoded data removed]",
            "text/plain": [
              "<Figure size 432x288 with 1 Axes>"
            ]
          },
          "metadata": {
            "needs_background": "light"
          },
          "output_type": "display_data"
        },
        {
          "data": {
            "image/png": "[encoded data removed]",
            "text/plain": [
              "<Figure size 432x288 with 1 Axes>"
            ]
          },
          "metadata": {
            "needs_background": "light"
          },
          "output_type": "display_data"
        },
        {
          "data": {
            "image/png": "[encoded data removed]",
            "text/plain": [
              "<Figure size 432x288 with 1 Axes>"
            ]
          },
          "metadata": {
            "needs_background": "light"
          },
          "output_type": "display_data"
        },
        {
          "data": {
            "image/png": "[encoded data removed]",
            "text/plain": [
              "<Figure size 432x288 with 1 Axes>"
            ]
          },
          "metadata": {
            "needs_background": "light"
          },
          "output_type": "display_data"
        }
      ],
      "source": [
        "# contingency tables for skill vs seniority\n",
        "for col in skills:\n",
        "  crosstab = pd.crosstab(df[col], df['seniority'])\n",
        "  print(crosstab)\n",
        "  crosstab.plot.bar(rot=0)\n",
        "  chi2, p, dof, expected = stats.chi2_contingency(crosstab)\n",
        "  print(f\"Chi-sq value= {chi2}, p-value= {p}, Degrees of freedom= {dof}\")\n",
        "\n",
        "# contingency tables for tools vs seniority\n",
        "for col in tools:\n",
        "  crosstab = pd.crosstab(df[col], df['seniority'])\n",
        "  print(crosstab)\n",
        "  crosstab.plot.bar(rot=0)\n",
        "  chi2, p, dof, expected = stats.chi2_contingency(crosstab)\n",
        "  print(f\"Chi-sq value= {chi2}, p-value= {p}, Degrees of freedom= {dof}\")\n"
      ]
    },
    {
      "attachments": {},
      "cell_type": "markdown",
      "metadata": {
        "id": "34WQ7vn-K18r"
      },
      "source": [
        "Check for balance of sample across years"
      ]
    },
    {
      "cell_type": "code",
      "execution_count": 9,
      "metadata": {
        "colab": {
          "base_uri": "https://localhost:8080/"
        },
        "id": "HaH3GOf_Lv2s",
        "outputId": "0aa8dbce-e86f-4a0f-ed42-6ad09f3f8764"
      },
      "outputs": [
        {
          "name": "stdout",
          "output_type": "stream",
          "text": [
            "2019 data: 969 \n",
            "2020 data: 772 \n",
            "2021 data: 773\n"
          ]
        }
      ],
      "source": [
        "print('2019 data:', len(df[(df['y20']==0) & (df['y21']==0)]), '\\n2020 data:', df['y20'].sum(), '\\n2021 data:', df['y21'].sum())"
      ]
    },
    {
      "attachments": {},
      "cell_type": "markdown",
      "metadata": {
        "id": "nkwj1XTFeGIz"
      },
      "source": [
        "# Further analysis on skills vs seniority:\n",
        "- considering the expected values and bar charts\n",
        "  - analysis is associated with senior positions more than entry positions (more observed in senior positions and less observed in entry positions than expected)\n",
        "  - visualization is associated with senior positions more than entry positions\n",
        "  - excel is associated with senior positions more than entry positions\n",
        "  - however, more seniors still did not have visualization skills compared to entry level (see charts), whereas the frequency is roughly equivalent for absence of analysis skills and excel; perhaps visualization is specialized skill which some senior positions requires, while if analysis and excel are required they remain important for senior positions  "
      ]
    },
    {
      "cell_type": "code",
      "execution_count": 14,
      "metadata": {
        "colab": {
          "base_uri": "https://localhost:8080/",
          "height": 1000
        },
        "id": "zBb-b4RU1n3K",
        "outputId": "69543aca-d334-46d2-b8c8-0dc6937a682d"
      },
      "outputs": [
        {
          "name": "stdout",
          "output_type": "stream",
          "text": [
            "seniority     0     1\n",
            "analysis             \n",
            "0           104    82\n",
            "1          1023  1305\n",
            "Chi-sq value= 9.501126639428461, p-value= 0.0020534577317980105, Degrees of freedom= 1, \n",
            "expected values: \n",
            "[[  83.38186158  102.61813842]\n",
            " [1043.61813842 1284.38186158]]\n",
            "seniority        0     1\n",
            "visualization           \n",
            "0              915  1048\n",
            "1              212   339\n",
            "Chi-sq value= 11.190564366653609, p-value= 0.0008221433525602478, Degrees of freedom= 1, \n",
            "expected values: \n",
            "[[ 879.99244232 1083.00755768]\n",
            " [ 247.00755768  303.99244232]]\n",
            "seniority    0    1\n",
            "excel              \n",
            "0          468  499\n",
            "1          659  888\n",
            "Chi-sq value= 7.856662566621351, p-value= 0.005063377006620638, Degrees of freedom= 1, \n",
            "expected values: \n",
            "[[433.49602228 533.50397772]\n",
            " [693.50397772 853.49602228]]\n"
          ]
        },
        {
          "data": {
            "image/png": "[encoded data removed]",
            "text/plain": [
              "<Figure size 432x288 with 1 Axes>"
            ]
          },
          "metadata": {
            "needs_background": "light"
          },
          "output_type": "display_data"
        },
        {
          "data": {
            "image/png": "[encoded data removed]",
            "text/plain": [
              "<Figure size 432x288 with 1 Axes>"
            ]
          },
          "metadata": {
            "needs_background": "light"
          },
          "output_type": "display_data"
        },
        {
          "data": {
            "image/png": "[encoded data removed]",
            "text/plain": [
              "<Figure size 432x288 with 1 Axes>"
            ]
          },
          "metadata": {
            "needs_background": "light"
          },
          "output_type": "display_data"
        }
      ],
      "source": [
        "# consider significant variables\n",
        "significant = ['analysis', 'visualization', 'excel']\n",
        "\n",
        "# contingency tables with expected values\n",
        "for col in significant:\n",
        "  crosstab = pd.crosstab(df[col], df['seniority'])\n",
        "  print(crosstab)\n",
        "  crosstab.plot.bar(rot=0)\n",
        "  chi2, p, dof, expected = stats.chi2_contingency(crosstab)\n",
        "  print(f\"Chi-sq value= {chi2}, p-value= {p}, Degrees of freedom= {dof}, \\nexpected values: \\n{expected}\")"
      ]
    }
  ],
  "metadata": {
    "colab": {
      "collapsed_sections": [],
      "provenance": []
    },
    "kernelspec": {
      "display_name": "Python 3.10.6 ('venv': venv)",
      "language": "python",
      "name": "python3"
    },
    "language_info": {
      "name": "python",
      "version": "3.10.6 (main, Sep  9 2022, 15:28:59) [Clang 13.1.6 (clang-1316.0.21.2.5)]"
    },
    "vscode": {
      "interpreter": {
        "hash": "9407e8d188eb6f35149f2c20daac65629f2f63309259e37ed272ce3b81ebddd5"
      }
    }
  },
  "nbformat": 4,
  "nbformat_minor": 0
}
